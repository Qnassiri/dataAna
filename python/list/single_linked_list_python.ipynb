{
 "cells": [
  {
   "cell_type": "code",
   "execution_count": 1,
   "metadata": {
    "collapsed": true
   },
   "outputs": [],
   "source": [
    "class Node(object):\n",
    "    __solts__ = ('_item', '_next')\n",
    "    \n",
    "    def __init__(self, item):\n",
    "        self._item = item\n",
    "        self._next = None\n",
    "    \n",
    "    def getItem(self):\n",
    "        return self._item\n",
    "    \n",
    "    def setItem(self, newItem):\n",
    "        self._item = newItem\n",
    "        \n",
    "    def getNext(self):\n",
    "        return self._next\n",
    "    \n",
    "    def setNext(self, newNext):\n",
    "        self._next = newNext"
   ]
  },
  {
   "cell_type": "code",
   "execution_count": 2,
   "metadata": {
    "collapsed": false
   },
   "outputs": [
    {
     "name": "stdout",
     "output_type": "stream",
     "text": [
      "100\n",
      "101\n"
     ]
    }
   ],
   "source": [
    "node = Node(100)\n",
    "print(node.getItem())\n",
    "node.setItem(101)\n",
    "print(node.getItem())"
   ]
  },
  {
   "cell_type": "code",
   "execution_count": 3,
   "metadata": {
    "collapsed": false
   },
   "outputs": [],
   "source": [
    "class SingleLinkedList(object):\n",
    "    def __init__(self):\n",
    "        self._head = None\n",
    "        self._size = 0\n",
    "    \n",
    "    def printList(self):\n",
    "        temp = self._head\n",
    "        while(temp != None):\n",
    "            print(temp.getItem(), end=' ')\n",
    "            temp = temp.getNext()\n",
    "        print()\n",
    "\n",
    "    #返回是否为空链表\n",
    "    def isEmpty(self):\n",
    "        return self._head == None\n",
    "    \n",
    "    def size(self):\n",
    "        temp = self._head\n",
    "        cnt = 0\n",
    "        while temp is not None:\n",
    "            temp = temp.getNext()\n",
    "            cnt += 1\n",
    "        return cnt\n",
    "    \n",
    "    #在链表最前面添加元素\n",
    "    def add(self, item):\n",
    "        node = Node(item)\n",
    "        node.setNext(self._head)\n",
    "        self._head = node\n",
    "        \n",
    "    #在链表的最后添加元素\n",
    "    def append(self, item):\n",
    "        node = Node(item)\n",
    "        \n",
    "        #当链表为空的时候直接\n",
    "        if self.isEmpty():\n",
    "            self._head = node\n",
    "        else:\n",
    "            temp = self._head\n",
    "            while(temp.getNext() != None):\n",
    "                temp = temp.getNext()\n",
    "            temp.setNext(node)\n",
    "    \n",
    "    #查找链表中是否存在给定的元素,质押\n",
    "    def search(self, item):\n",
    "        #表示查找的状态量\n",
    "        isFound = False\n",
    "        \n",
    "        temp = self._head\n",
    "        while (temp is not None) and (not isFound):\n",
    "            isFound = temp.getItem() == item\n",
    "            temp = temp.getNext()\n",
    "        return isFound\n",
    "    \n",
    "    #返回item的位置，以0开始\n",
    "    def index(self, item):\n",
    "        ind = -1\n",
    "        isFound = False\n",
    "        temp = self._head\n",
    "        while temp is not None and not isFound:\n",
    "            isFound = temp.getItem() == item\n",
    "            temp = temp.getNext()\n",
    "            ind += 1\n",
    "\n",
    "        if isFound:\n",
    "            return ind\n",
    "        else:\n",
    "            raise ValueError(\"the item is not found.\")\n",
    "    \n",
    "    #删除链表中的第一个item\n",
    "    def remove(self, item):\n",
    "        temp = self._head\n",
    "        pre = None\n",
    "        while temp is not None:\n",
    "            if temp.getItem() == item:\n",
    "                if pre is None:\n",
    "                    self._head = temp.getNext()\n",
    "                else:\n",
    "                    pre.setNext(temp.getNext())\n",
    "                break\n",
    "            else:\n",
    "                pre = temp\n",
    "                temp = temp.getNext()\n",
    "\n",
    "    #将item直接插入到pos的位置           \n",
    "    def insert(self, pos, item):\n",
    "        if pos <= 0:\n",
    "            self.add(item)\n",
    "        elif pos == self.size() - 1:\n",
    "            self.append(item)\n",
    "        elif pos >= self.size():\n",
    "            raise ValueError(\"the pos is beyond the bound\")\n",
    "        else:\n",
    "            index = 1\n",
    "            pre = self._head\n",
    "            current = pre.getNext()\n",
    "            while current is not None and index != pos:\n",
    "                if index != pos:\n",
    "                    pre = current\n",
    "                    current = pre.getNext()\n",
    "            tempNode = Node(item)\n",
    "            tempNode.setNext(current)\n",
    "            pre.setNext(tempNode)"
   ]
  },
  {
   "cell_type": "code",
   "execution_count": 4,
   "metadata": {
    "collapsed": false
   },
   "outputs": [
    {
     "name": "stdout",
     "output_type": "stream",
     "text": [
      "2 1 0 \n",
      "2 1 0 3 \n",
      "2 1 0 3 4 5 \n",
      "True\n",
      "False\n",
      "0\n",
      "3\n",
      "2 1 3 4 5 \n",
      "1 3 4 5 \n",
      "2 3 1 3 4 5 6 \n"
     ]
    }
   ],
   "source": [
    "#创建链表\n",
    "s = SingleLinkedList()\n",
    "#测试add函数\n",
    "s.add(0)\n",
    "s.add(1)\n",
    "s.add(2)\n",
    "s.printList()\n",
    "#测试append函数\n",
    "s.append(3)\n",
    "s.printList()\n",
    "s.append(4)\n",
    "s.append(5)\n",
    "s.printList()\n",
    "#测试search函数\n",
    "print(s.search(2))\n",
    "print(s.search(10))\n",
    "print(s.index(2))\n",
    "print(s.index(3))\n",
    "#异常的时候print(s.index(10))\n",
    "#测试remove函数\n",
    "s.remove(0)\n",
    "s.printList()\n",
    "#remove第一个item\n",
    "s.remove(2)\n",
    "s.printList()\n",
    "s.insert(0,2)\n",
    "s.insert(1,3)\n",
    "s.insert(5, 6)\n",
    "s.printList()"
   ]
  },
  {
   "cell_type": "code",
   "execution_count": 5,
   "metadata": {
    "collapsed": false
   },
   "outputs": [
    {
     "data": {
      "text/plain": [
       "False"
      ]
     },
     "execution_count": 5,
     "metadata": {},
     "output_type": "execute_result"
    }
   ],
   "source": [
    "None is not None and False"
   ]
  },
  {
   "cell_type": "code",
   "execution_count": null,
   "metadata": {
    "collapsed": true
   },
   "outputs": [],
   "source": []
  }
 ],
 "metadata": {
  "anaconda-cloud": {},
  "kernelspec": {
   "display_name": "Python [conda root]",
   "language": "python",
   "name": "conda-root-py"
  },
  "language_info": {
   "codemirror_mode": {
    "name": "ipython",
    "version": 3
   },
   "file_extension": ".py",
   "mimetype": "text/x-python",
   "name": "python",
   "nbconvert_exporter": "python",
   "pygments_lexer": "ipython3",
   "version": "3.5.2"
  }
 },
 "nbformat": 4,
 "nbformat_minor": 1
}
