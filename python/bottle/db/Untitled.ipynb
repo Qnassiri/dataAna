{
 "cells": [
  {
   "cell_type": "code",
   "execution_count": 14,
   "metadata": {},
   "outputs": [],
   "source": [
    "# %load bottle_db.py\n",
    "#!/usr/bin/env python\n",
    "\n",
    "import os\n",
    "import dbm\n",
    "import pickle\n",
    "\n",
    "DB_PATH = os.getcwd()\n",
    "\n",
    "\n",
    "class BottleBucket(object):\n",
    "    def __init__(self, db_name):\n",
    "        self.__dict__['db_name'] = db_name\n",
    "        self.__dict__['db'] = dbm.open(\n",
    "            os.path.join(DB_PATH, '%s' % db_name), 'c')\n",
    "        self.__dict__['cached_memory'] = {}\n",
    "\n",
    "    # 实现a['key'], a['key'] = value, del a['key']功能\n",
    "    def __getitem__(self, key):\n",
    "        if key not in self.cached_memory:\n",
    "            self.cached_memory[key] = pickle.loads(self.db[key])\n",
    "        return self.cached_memory[key]\n",
    "\n",
    "    def __setitem__(self, key, value):\n",
    "        self.cached_memory[key] = value\n",
    "\n",
    "    def __delitem__(self, key):\n",
    "        if key in self.cached_memory:\n",
    "            del self.cached_memory[key]\n",
    "        del self.db[key]\n",
    "\n",
    "    # 实现a.key, a.key = value, del a.key功能\n",
    "    def __getattr__(self, key):\n",
    "        try:\n",
    "            self[key]\n",
    "        except KeyError:\n",
    "            raise AttributeError(key)\n",
    "\n",
    "    def __setattr__(self, key, value):\n",
    "        self[key] = value\n",
    "\n",
    "    def __delattr__(self, key):\n",
    "        try:\n",
    "            del self[key]\n",
    "        except KeyError:\n",
    "            raise AttributeError(key)\n",
    "\n",
    "    def iter(self):\n",
    "        return iter(self.ukeys())\n",
    "\n",
    "    def __contains__(self, key):\n",
    "        return key in self.ukeys()\n",
    "\n",
    "    def __len__(self):\n",
    "        return len(self.keys())\n",
    "\n",
    "    def keys(self):\n",
    "        return list(self.ukeys())\n",
    "\n",
    "    def ukeys(self):\n",
    "        return set(self.db.keys()) | set(self.cached_memory.keys())\n",
    "\n",
    "    def update(self, other):\n",
    "        self.cached_memory.update(other)\n",
    "\n",
    "    def get(self, key, default=None):\n",
    "        try:\n",
    "            return self[key]\n",
    "        except KeyError:\n",
    "            if default:\n",
    "                return default\n",
    "            raise\n",
    "\n",
    "    def clear(self):\n",
    "        for key in self.db.keys():\n",
    "            del self.db[key]\n",
    "        self.cached_memory.clear()\n",
    "\n",
    "    def save(self):\n",
    "        self.close()\n",
    "        self.__init__(self.db_name)\n",
    "\n",
    "    def close(self):\n",
    "        for key in self.cached_memory.keys():\n",
    "            pvalue = pickle.dumps(self.cached_memory[key],\n",
    "                                  pickle.HIGHEST_PROTOCOL)\n",
    "            if key not in self.db or pvalue != self.db[key]:\n",
    "                self.db[key] = pvalue\n",
    "        self.cached_memory.clear()\n",
    "        self.db.close()\n"
   ]
  },
  {
   "cell_type": "code",
   "execution_count": 15,
   "metadata": {},
   "outputs": [],
   "source": [
    "db = BottleBucket('bottle')\n",
    "db['a'] = 1\n",
    "db.save()"
   ]
  },
  {
   "cell_type": "code",
   "execution_count": 26,
   "metadata": {},
   "outputs": [
    {
     "name": "stdout",
     "output_type": "stream",
     "text": [
      "[b'b']\n"
     ]
    }
   ],
   "source": [
    "db['b'] = 2\n",
    "db.save()\n",
    "del db.a\n",
    "print(db.db.keys())"
   ]
  },
  {
   "cell_type": "code",
   "execution_count": 30,
   "metadata": {},
   "outputs": [
    {
     "name": "stdout",
     "output_type": "stream",
     "text": [
      "{'b': 2}\n"
     ]
    }
   ],
   "source": [
    "a = {'a': 1, 'b':2}\n",
    "if 'a' in a:\n",
    "    del a['a']\n",
    "print(a)"
   ]
  }
 ],
 "metadata": {
  "kernelspec": {
   "display_name": "Python 3",
   "language": "python",
   "name": "python3"
  },
  "language_info": {
   "codemirror_mode": {
    "name": "ipython",
    "version": 3
   },
   "file_extension": ".py",
   "mimetype": "text/x-python",
   "name": "python",
   "nbconvert_exporter": "python",
   "pygments_lexer": "ipython3",
   "version": "3.6.3"
  }
 },
 "nbformat": 4,
 "nbformat_minor": 2
}
