{
 "cells": [
  {
   "cell_type": "code",
   "execution_count": 1,
   "metadata": {
    "collapsed": true
   },
   "outputs": [],
   "source": [
    "class Stack(object):\n",
    "    def __init__(self):\n",
    "        self._stack = []\n",
    "        self._size = 0\n",
    "        self._top = -1\n",
    "    \n",
    "    def setSize(self, size):\n",
    "        if self._size <= size:\n",
    "            self._size = size\n",
    "        else:\n",
    "            raise ValueError(\"the size is below the number of stack.\")\n",
    "    \n",
    "    def isEmpty(self):\n",
    "        return self._top == -1\n",
    "    \n",
    "    def isFull(self):\n",
    "        return self._top == self._size - 1\n",
    "    \n",
    "    def top(self):\n",
    "        if not self.isEmpty():\n",
    "            return self._stack[self._top]\n",
    "        else:\n",
    "            raise ValueError(\"the stack is empty.\")\n",
    "    \n",
    "    def push(self, item):\n",
    "        if not self.isFull():\n",
    "            self._stack.append(item)\n",
    "            self._top += 1\n",
    "        else:\n",
    "            raise ValueError(\"the stack is full, can't push the item into the end\")\n",
    "    \n",
    "    def pop(self):\n",
    "        if not self.isEmpty():\n",
    "            self._top -= 1\n",
    "            return self._stack.pop()\n",
    "        else:\n",
    "            raise ValueError(\"the stack is empty, can't pop the item\")\n",
    "    \n",
    "    def show(self):\n",
    "        if not self.isEmpty():\n",
    "            print(self._stack)\n",
    "        else:\n",
    "            raise ValueError(\"the stack is empty.\")"
   ]
  },
  {
   "cell_type": "code",
   "execution_count": 2,
   "metadata": {
    "collapsed": false
   },
   "outputs": [
    {
     "name": "stdout",
     "output_type": "stream",
     "text": [
      "False\n",
      "40\n",
      "2\n",
      "30\n",
      "1\n",
      "20\n",
      "0\n",
      "[10]\n"
     ]
    }
   ],
   "source": [
    "stack = Stack()\n",
    "stack.setSize(5)\n",
    "print(stack.isFull())\n",
    "stack.push(10)\n",
    "stack.push(20)\n",
    "stack.push(30)\n",
    "stack.push(40)\n",
    "print(stack.pop())\n",
    "print(stack._top)\n",
    "print(stack.pop())\n",
    "print(stack._top)\n",
    "print(stack.pop())\n",
    "print(stack._top)\n",
    "stack.show()"
   ]
  },
  {
   "cell_type": "code",
   "execution_count": 3,
   "metadata": {
    "collapsed": true
   },
   "outputs": [],
   "source": [
    "def match(i,j):\n",
    "    opened = r\"([{\"\n",
    "    closed = r\")]}\"\n",
    "    return opened.index(i) == closed.index(j)"
   ]
  },
  {
   "cell_type": "markdown",
   "metadata": {},
   "source": [
    "## 下面这个是对stack的运用的一个例子。\n",
    "> 为语法检测的函数，对语言中一般只有{}\\[\\]()闭合的符号。\n",
    ">* 当(\\[{这样的情况多的时候这样将导致栈最后有剩余\n",
    ">* 匹配错误\n",
    ">* 当)\\]}多的时候，则有此时栈为空"
   ]
  },
  {
   "cell_type": "code",
   "execution_count": 4,
   "metadata": {
    "collapsed": false
   },
   "outputs": [],
   "source": [
    "def syntaxChecker(string):\n",
    "    s = Stack()\n",
    "    s.setSize(100)\n",
    "    isError = False\n",
    "    for i in string:\n",
    "        if i in \"([{\":\n",
    "            s.push(i)\n",
    "        elif i in \")]}\":\n",
    "            if s.isEmpty():\n",
    "                isError = True\n",
    "                break\n",
    "            else:\n",
    "                j = s.pop()\n",
    "                print(j)\n",
    "                if not match(i,j):\n",
    "                    isError = True\n",
    "                    break\n",
    "    if not s.isEmpty():\n",
    "        isError = True\n",
    "    return isError"
   ]
  },
  {
   "cell_type": "code",
   "execution_count": 5,
   "metadata": {
    "collapsed": false
   },
   "outputs": [],
   "source": [
    "class Stack(object):\n",
    "    def __init__(self):\n",
    "        self.stack=[]\n",
    "    def isEmpty(self):\n",
    "        return self.stack==[]\n",
    "    def push(self,item):\n",
    "        self.stack.append(item)\n",
    "    def pop(self):\n",
    "        if self.isEmpty():\n",
    "            raise IndexError('pop from empty stack')\n",
    "        return self.stack.pop()\n",
    "    def peek(self):\n",
    "        return self.stack[-1]\n",
    "    def size(self):\n",
    "        return len(self.stack)"
   ]
  },
  {
   "cell_type": "code",
   "execution_count": 6,
   "metadata": {
    "collapsed": true
   },
   "outputs": [],
   "source": [
    "def decimal_to_bin(dec):\n",
    "    stack=Stack()\n",
    "    cur=dec\n",
    "    while cur>0:\n",
    "        a=cur%2\n",
    "        #print(\"the a is {}\".format(a))\n",
    "        #在python3中只要只要商的时候用双除号，单除号比如5/2将使得结果为2.5，而5//2的结果为2\n",
    "        cur=cur//2\n",
    "        #print(\"the cur is {}\".format(cur))\n",
    "        stack.push(a)\n",
    "    binstr=''\n",
    "    while not stack.isEmpty():\n",
    "        binstr+=str(int(stack.pop()))\n",
    "    return binstr"
   ]
  },
  {
   "cell_type": "code",
   "execution_count": 7,
   "metadata": {
    "collapsed": false
   },
   "outputs": [
    {
     "data": {
      "text/plain": [
       "'1100100'"
      ]
     },
     "execution_count": 7,
     "metadata": {},
     "output_type": "execute_result"
    }
   ],
   "source": [
    "decimal_to_bin(100)"
   ]
  },
  {
   "cell_type": "code",
   "execution_count": 8,
   "metadata": {
    "collapsed": true
   },
   "outputs": [],
   "source": [
    "class Queue(object):\n",
    "    def __init__(self):\n",
    "        self.queue = []\n",
    "    \n",
    "    def isEmpty(self):\n",
    "        return self.queue == []\n",
    "    \n",
    "    def enqueue(self, item):\n",
    "        self.queue.append(item)\n",
    "        \n",
    "    def dequeue(self):\n",
    "        if not self.isEmpty():\n",
    "            return self.queue.pop(0)\n",
    "        else:\n",
    "            raise IndexError(\"the queue is empty can't pop one item.\")\n",
    "            \n",
    "    def size(self):\n",
    "        return len(self.queue)\n",
    "    \n",
    "    def show(self):\n",
    "        print(self.queue)\n",
    "    "
   ]
  },
  {
   "cell_type": "code",
   "execution_count": 9,
   "metadata": {
    "collapsed": false
   },
   "outputs": [
    {
     "name": "stdout",
     "output_type": "stream",
     "text": [
      "[]\n",
      "[1]\n",
      "[1, 2]\n",
      "[2]\n",
      "1\n",
      "False\n"
     ]
    }
   ],
   "source": [
    "q = Queue()\n",
    "q.show()\n",
    "q.enqueue(1)\n",
    "q.show()\n",
    "q.enqueue(2)\n",
    "q.show()\n",
    "q.dequeue()\n",
    "q.show()\n",
    "print(q.size())\n",
    "print(q.isEmpty())"
   ]
  }
 ],
 "metadata": {
  "anaconda-cloud": {},
  "kernelspec": {
   "display_name": "Python [conda root]",
   "language": "python",
   "name": "conda-root-py"
  },
  "language_info": {
   "codemirror_mode": {
    "name": "ipython",
    "version": 3
   },
   "file_extension": ".py",
   "mimetype": "text/x-python",
   "name": "python",
   "nbconvert_exporter": "python",
   "pygments_lexer": "ipython3",
   "version": "3.5.2"
  }
 },
 "nbformat": 4,
 "nbformat_minor": 1
}
